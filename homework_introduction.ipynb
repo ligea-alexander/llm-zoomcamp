{
 "cells": [
  {
   "cell_type": "code",
   "execution_count": 2,
   "id": "46d7a15a-1bdc-4f3a-9a33-28e02b9a7050",
   "metadata": {},
   "outputs": [],
   "source": [
    "import openai\n",
    "from openai import OpenAI"
   ]
  },
  {
   "cell_type": "code",
   "execution_count": 3,
   "id": "b1f4243d-5ac6-4705-907b-58448f29dd7d",
   "metadata": {},
   "outputs": [],
   "source": [
    "client = OpenAI()"
   ]
  },
  {
   "cell_type": "code",
   "execution_count": 13,
   "id": "44deb481-493b-4c08-b6c5-bb7274455e16",
   "metadata": {},
   "outputs": [],
   "source": [
    "import os\n",
    "# os.environ"
   ]
  },
  {
   "cell_type": "code",
   "execution_count": 11,
   "id": "999a9c9d-4f02-4e91-975f-3d97deb7d4b8",
   "metadata": {},
   "outputs": [],
   "source": [
    "client = OpenAI()\n",
    "response = client.chat.completions.create(\n",
    "    model = 'gpt-4o',\n",
    "    messages = [{\"role\": \"user\", \"content\": \"is it too late to join the course?\"}]\n",
    ")"
   ]
  },
  {
   "cell_type": "code",
   "execution_count": 12,
   "id": "7749fdcf-e6a8-47c0-8e72-8c7b6670b775",
   "metadata": {},
   "outputs": [
    {
     "data": {
      "text/plain": [
       "\"It depends on the specific course and its guidelines. Many courses have different enrollment periods and policies regarding late admissions. Here are a few steps you can take to find out if you can still join:\\n\\n1. **Check the Course Website:** Visit the course's official website or the platform where it is offered. There may be information about late enrollment or add/drop deadlines.\\n\\n2. **Contact the Instructor:** Reach out to the course instructor or the academic department offering the course. They can provide specific details about whether it's possible to join late and any implications this might have.\\n\\n3. **Enrollment Office:** If the course is part of a larger institution, such as a university, the enrollment or admissions office will have comprehensive information about deadlines and procedures for late registration.\\n\\n4. **Online Forums/Groups:** Sometimes, course-related forums or social media groups can provide insights from other students who may have faced similar situations.\\n\\nRemember, joining a course late might mean you need to catch up on missed material, so be prepared for some extra effort if the course allows late enrollment.\""
      ]
     },
     "execution_count": 12,
     "metadata": {},
     "output_type": "execute_result"
    }
   ],
   "source": [
    "response.choices[0].message.content"
   ]
  },
  {
   "cell_type": "code",
   "execution_count": null,
   "id": "fac51d2c-f8f2-4d0a-9cce-971b64d51667",
   "metadata": {},
   "outputs": [],
   "source": []
  }
 ],
 "metadata": {
  "kernelspec": {
   "display_name": "Python 3 (ipykernel)",
   "language": "python",
   "name": "python3"
  },
  "language_info": {
   "codemirror_mode": {
    "name": "ipython",
    "version": 3
   },
   "file_extension": ".py",
   "mimetype": "text/x-python",
   "name": "python",
   "nbconvert_exporter": "python",
   "pygments_lexer": "ipython3",
   "version": "3.10.13"
  }
 },
 "nbformat": 4,
 "nbformat_minor": 5
}
