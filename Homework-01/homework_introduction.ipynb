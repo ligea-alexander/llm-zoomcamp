{
 "cells": [
  {
   "cell_type": "code",
   "execution_count": 1,
   "id": "46d7a15a-1bdc-4f3a-9a33-28e02b9a7050",
   "metadata": {},
   "outputs": [],
   "source": [
    "import openai\n",
    "from openai import OpenAI"
   ]
  },
  {
   "cell_type": "code",
   "execution_count": 3,
   "id": "b1f4243d-5ac6-4705-907b-58448f29dd7d",
   "metadata": {},
   "outputs": [],
   "source": [
    "client = OpenAI(api_key = 'YOUR_API_KEY')"
   ]
  },
  {
   "cell_type": "code",
   "execution_count": 4,
   "id": "44deb481-493b-4c08-b6c5-bb7274455e16",
   "metadata": {},
   "outputs": [],
   "source": [
    "import os\n",
    "# os.environ"
   ]
  },
  {
   "cell_type": "code",
   "execution_count": 5,
   "id": "999a9c9d-4f02-4e91-975f-3d97deb7d4b8",
   "metadata": {},
   "outputs": [],
   "source": [
    "client = OpenAI()\n",
    "response = client.chat.completions.create(\n",
    "    model = 'gpt-4o',\n",
    "    messages = [{\"role\": \"user\", \"content\": \"is it too late to join the course?\"}]\n",
    ")"
   ]
  },
  {
   "cell_type": "code",
   "execution_count": 6,
   "id": "7749fdcf-e6a8-47c0-8e72-8c7b6670b775",
   "metadata": {},
   "outputs": [
    {
     "data": {
      "text/plain": [
       "\"It's hard to say without more details. Whether it's too late to join a course depends on several factors, such as the enrollment deadlines set by the institution or instructor, the current stage of the coursework, and the policy on late admissions.\\n\\nHere are a few steps you can take to find out:\\n\\n1. **Check the Course Schedule**: Review the official course schedule or syllabus, which usually lists enrollment deadlines and key dates.\\n   \\n2. **Contact the Instructor or Institution**: Reach out to the course instructor, academic advisor, or the admissions office to inquire about the possibility of late enrollment.\\n\\n3. **Review Policies**: Some institutions and courses have specific policies on late enrollment which may include additional fees or requirements.\\n\\n4. **Catch-Up Plan**: Consider if you are willing and able to catch up on missed work, as joining a course late may require additional effort to get up to speed.\\n\\nFeel free to provide more details if you need more specific advice!\""
      ]
     },
     "execution_count": 6,
     "metadata": {},
     "output_type": "execute_result"
    }
   ],
   "source": [
    "response.choices[0].message.content"
   ]
  },
  {
   "cell_type": "code",
   "execution_count": null,
   "id": "fac51d2c-f8f2-4d0a-9cce-971b64d51667",
   "metadata": {},
   "outputs": [],
   "source": []
  }
 ],
 "metadata": {
  "kernelspec": {
   "display_name": "Python 3 (ipykernel)",
   "language": "python",
   "name": "python3"
  },
  "language_info": {
   "codemirror_mode": {
    "name": "ipython",
    "version": 3
   },
   "file_extension": ".py",
   "mimetype": "text/x-python",
   "name": "python",
   "nbconvert_exporter": "python",
   "pygments_lexer": "ipython3",
   "version": "3.12.1"
  }
 },
 "nbformat": 4,
 "nbformat_minor": 5
}
